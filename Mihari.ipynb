{
 "metadata": {
  "language_info": {
   "codemirror_mode": {
    "name": "ipython",
    "version": 3
   },
   "file_extension": ".py",
   "mimetype": "text/x-python",
   "name": "python",
   "nbconvert_exporter": "python",
   "pygments_lexer": "ipython3",
   "version": "3.7.10"
  },
  "orig_nbformat": 2,
  "kernelspec": {
   "name": "python3710jvsc74a57bd0ba99e2c69ce9b74edc4fa827e729bbdb263f5fb5da2ced99598910bb573df8d3",
   "display_name": "Python 3.7.10 64-bit ('base': conda)"
  }
 },
 "nbformat": 4,
 "nbformat_minor": 2,
 "cells": [
  {
   "source": [
    "# Mihari Notebook\n",
    "This notebook queries an existing Mihari sqlite database and loads results into a pandas dataframe for onward analysis.\n",
    "\n",
    "To ensure queries run correctly, please ensure that your `mihari.db` instance has been updated to incorporate the additional columns required for pDNS related queries. Updated versions of this notebook can always be downloaded from https://github.com/ssnkhan/infrastructure-hunting/.\n"
   ],
   "cell_type": "markdown",
   "metadata": {}
  },
  {
   "cell_type": "code",
   "execution_count": null,
   "metadata": {
    "tags": []
   },
   "outputs": [],
   "source": [
    "import sqlite3\n",
    "import pandas as pd\n",
    "from tabulate import tabulate\n",
    "\n",
    "\n",
    "# Update with the absolute path of your mihari.db\n",
    "connect = sqlite3.connect(\"mihari.db\")\n",
    "mihari = connect.cursor()\n",
    "\n",
    "\n",
    "# Paste any SQL query between the backticks\n",
    "results = mihari.execute('''\n",
    "SELECT\n",
    "    strftime(\"%Y-%m-%d\", alerts.created_at) AS \"Date\",\n",
    "    alerts.title AS \"Alert Type\",\n",
    "    artifacts.data AS \"IP\"\n",
    "FROM artifacts\n",
    "INNER JOIN alerts ON alerts.id = artifacts.alert_id\n",
    "ORDER BY\n",
    "    \"Date\" DESC\n",
    "''')\n",
    "\n",
    "\n",
    "# Fetch and store results into a pandas dataframe\n",
    "results = results.fetchall()\n",
    "results_df = pd.DataFrame(results)\n",
    "connect.close()\n",
    "\n",
    "\n",
    "if (len(results) > 0):\n",
    "    # Print results in a nice table\n",
    "    headers = list(map(lambda x: x[0], mihari.description))\n",
    "    print(tabulate(results, headers=headers, tablefmt=\"psql\"))\n",
    "else:\n",
    "    print (\"No results to display.\")"
   ]
  }
 ]
}