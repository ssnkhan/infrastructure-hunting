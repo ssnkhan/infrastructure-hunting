{
 "metadata": {
  "language_info": {
   "codemirror_mode": {
    "name": "ipython",
    "version": 3
   },
   "file_extension": ".py",
   "mimetype": "text/x-python",
   "name": "python",
   "nbconvert_exporter": "python",
   "pygments_lexer": "ipython3",
   "version": "3.7.10"
  },
  "orig_nbformat": 2,
  "kernelspec": {
   "name": "python3710jvsc74a57bd0ba99e2c69ce9b74edc4fa827e729bbdb263f5fb5da2ced99598910bb573df8d3",
   "display_name": "Python 3.7.10 64-bit ('base': conda)"
  }
 },
 "nbformat": 4,
 "nbformat_minor": 2,
 "cells": [
  {
   "cell_type": "code",
   "execution_count": null,
   "metadata": {},
   "outputs": [],
   "source": [
    "import sqlite3\n",
    "from tabulate import tabulate\n",
    "import matplotlib.pyplot as plt\n",
    "import pandas as pd\n",
    "import seaborn as sns\n",
    "\n",
    "\n",
    "# Update with the absolute path of your mihari.db\n",
    "connect = sqlite3.connect(\"mihari.db\")\n",
    "mihari = connect.cursor()\n",
    "\n",
    "\n",
    "# Paste any SQL query between the backticks\n",
    "results = mihari.execute('''\n",
    "SELECT\n",
    "    alerts.title AS Type,\n",
    "    count(*) AS Total\n",
    "FROM artifacts\n",
    "INNER JOIN alerts ON alerts.id = artifacts.alert_id\n",
    "GROUP BY\n",
    "    Type\n",
    "ORDER BY\n",
    "    Total DESC\n",
    "''')\n",
    "\n",
    "results = results.fetchall()\n",
    "connect.close()\n",
    "\n",
    "\n",
    "\"\"\" # Print results to a table\n",
    "if (len(results) > 0):\n",
    "    # Print results in a nice table\n",
    "    headers = list(map(lambda x: x[0],a mihari.description))\n",
    "    print(tabulate(results, headers=headers, tablefmt=\"psql\"))\n",
    "else:\n",
    "    print (\"No results to display.\") \"\"\"\n",
    "\n",
    "\n",
    "# Draw a graph, works best where column 2 is an integer/count\n",
    "sns.set_theme(style=\"whitegrid\")\n",
    "sns.set_color_codes(\"muted\")\n",
    "\n",
    "results = pd.DataFrame(results)\n",
    "\n",
    "plt.subplots(figsize=(15, 6))\n",
    "plt.xticks(rotation=90)\n",
    "\n",
    "sns.barplot(x = 0, y = 1, data = results, palette = \"Spectral\")\n",
    "plt.title(\"Mihari Detections\", fontsize = 15)\n",
    "plt.xlabel(\"Alert Name\")\n",
    "plt.ylabel(\"Detections\")\n",
    "plt.yscale(\"log\")\n",
    "sns.despine(left=True, bottom=False)\n",
    "plt.savefig('Detections.png', dpi=300, bbox_inches='tight', pad_inches=0.5)"
   ]
  }
 ]
}